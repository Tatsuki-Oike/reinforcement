{
 "cells": [
  {
   "cell_type": "markdown",
   "metadata": {},
   "source": [
    "# 1 環境とエージェント"
   ]
  },
  {
   "cell_type": "code",
   "execution_count": 1,
   "metadata": {},
   "outputs": [],
   "source": [
    "import numpy as np\n",
    "import matplotlib.pyplot as plt\n",
    "import seaborn as sns\n",
    "np.random.seed(1)"
   ]
  },
  {
   "cell_type": "code",
   "execution_count": 2,
   "metadata": {},
   "outputs": [],
   "source": [
    "class Environment:\n",
    "    \n",
    "    def __init__(self, size=3, lucky=[]):\n",
    "        \n",
    "        self.size = size\n",
    "        self.lucky = lucky\n",
    "        self.goal = (size-1, size-1)\n",
    "        self.states = [(x, y) for x in range(size) for y in range(size)]\n",
    "        \n",
    "        self.value = {}\n",
    "        for s in self.states:\n",
    "            self.value[s] = 0\n",
    "        \n",
    "    def next_state(self, s, a):\n",
    "        \n",
    "        s_next = (s[0] + a[0], s[1] + a[1])\n",
    "        \n",
    "        if s == self.goal:\n",
    "            return [(1, s)]\n",
    "        \n",
    "        if s_next not in self.states:\n",
    "            return [(1, s)]\n",
    "        \n",
    "        if s_next in self.lucky:\n",
    "            return [(0.8, self.goal), (0.2, s_next)]\n",
    "        \n",
    "        return [(1, s_next)]\n",
    "    \n",
    "    def reward(self, s, s_next):\n",
    "        \n",
    "        if s == self.goal:\n",
    "            return 0\n",
    "        \n",
    "        if s_next == self.goal:\n",
    "            return 1\n",
    "        \n",
    "        return 0            "
   ]
  },
  {
   "cell_type": "code",
   "execution_count": 3,
   "metadata": {},
   "outputs": [],
   "source": [
    "class Agent():\n",
    "    \n",
    "    def __init__(self, environment, policy=[0, 0, 1/2, 1/2]):\n",
    "        \n",
    "        self.actions = [(-1, 0), (0, -1), (1, 0), (0, 1)]\n",
    "        self.environment = environment\n",
    "        \n",
    "        self.policy = {}\n",
    "        for s in self.environment.states:\n",
    "            for i, a  in enumerate(self.actions):\n",
    "                self.policy[(s, a)] = policy[i]"
   ]
  },
  {
   "cell_type": "markdown",
   "metadata": {},
   "source": [
    "# 2 価値反復法"
   ]
  },
  {
   "cell_type": "code",
   "execution_count": 4,
   "metadata": {},
   "outputs": [],
   "source": [
    "def policy(agent, s, gamma=0.5):\n",
    "    \n",
    "    q_max = 0\n",
    "    a_max = None\n",
    "    for a in agent.actions:\n",
    "        q = 0\n",
    "        for p, s_next in agent.environment.next_state(s, a):\n",
    "            r = agent.environment.reward(s, s_next)\n",
    "            q += p*(r+gamma*agent.environment.value[s_next])\n",
    "        if q>q_max:\n",
    "            q_max = q\n",
    "            a_max = a\n",
    "\n",
    "    for a in agent.actions:\n",
    "        agent.policy[(s, a)] = 0\n",
    "        agent.policy[(s, a_max)] = 1\n",
    "        \n",
    "    return q_max"
   ]
  },
  {
   "cell_type": "code",
   "execution_count": 5,
   "metadata": {},
   "outputs": [],
   "source": [
    "def train(agent, gamma=0.5):\n",
    "    \n",
    "    epoch = 0\n",
    "    while True:\n",
    "\n",
    "        policy_pre = agent.policy.copy()\n",
    "        for s in agent.environment.states:\n",
    "            agent.environment.value[s] = policy(agent, s, gamma)\n",
    "            \n",
    "        epoch += 1\n",
    "        print(f'epoch : {epoch} ')\n",
    "        \n",
    "        if policy_pre == agent.policy:\n",
    "            show_values(agent)\n",
    "            show_policy(agent)\n",
    "            break"
   ]
  },
  {
   "cell_type": "markdown",
   "metadata": {},
   "source": [
    "# 3 可視化用関数"
   ]
  },
  {
   "cell_type": "code",
   "execution_count": 6,
   "metadata": {},
   "outputs": [],
   "source": [
    "def show_maze(environment):\n",
    "    size = environment.size\n",
    "    fig = plt.figure(figsize=(3,3))\n",
    "\n",
    "    plt.plot([-0.5, -0.5], [-0.5, size-0.5], color='k')\n",
    "    plt.plot([-0.5, size-0.5], [size-0.5, size-0.5], color='k')\n",
    "    plt.plot([size-0.5, -0.5], [-0.5, -0.5], color='k')\n",
    "    plt.plot([size-0.5, size-0.5], [size-0.5, -0.5], color='k')\n",
    "    \n",
    "    for i in range(size):\n",
    "        for j in range(size):\n",
    "            plt.text(i, j, \"{}\".format(i+size*j), size=20, ha=\"center\", va=\"center\")\n",
    "            if (i,j) in environment.lucky:\n",
    "                x = np.array([i-0.5,i-0.5,i+0.5,i+0.5])\n",
    "                y = np.array([j-0.5,j+0.5,j+0.5,j-0.5])\n",
    "                plt.fill(x,y, color=\"lightgreen\")\n",
    "\n",
    "    plt.axis(\"off\")"
   ]
  },
  {
   "cell_type": "code",
   "execution_count": 7,
   "metadata": {},
   "outputs": [],
   "source": [
    "def show_values(agent):\n",
    "\n",
    "    fig = plt.figure(figsize=(3,3))\n",
    "    result = np.zeros([agent.environment.size, agent.environment.size])\n",
    "    for (x, y) in agent.environment.states:\n",
    "        result[y][x]  = agent.environment.value[(x, y)]\n",
    "        \n",
    "    sns.heatmap(result, square=True, cbar=False, annot=True, fmt='3.2f', cmap='autumn_r').invert_yaxis()\n",
    "    plt.axis(\"off\")"
   ]
  },
  {
   "cell_type": "code",
   "execution_count": 8,
   "metadata": {},
   "outputs": [],
   "source": [
    " def show_policy(agent):\n",
    "    size = agent.environment.size\n",
    "    fig = plt.figure(figsize=(3,3))\n",
    "\n",
    "    plt.plot([-0.5, -0.5], [-0.5, size-0.5], color='k')\n",
    "    plt.plot([-0.5, size-0.5], [size-0.5, size-0.5], color='k')\n",
    "    plt.plot([size-0.5, -0.5], [-0.5, -0.5], color='k')\n",
    "    plt.plot([size-0.5, size-0.5], [size-0.5, -0.5], color='k')\n",
    "\n",
    "\n",
    "    for i in range(size):\n",
    "        for j in range(size):\n",
    "            if (i,j) in agent.environment.lucky:\n",
    "                x = np.array([i-0.5,i-0.5,i+0.5,i+0.5])\n",
    "                y = np.array([j-0.5,j+0.5,j+0.5,j-0.5])\n",
    "                plt.fill(x,y, color=\"lightgreen\")\n",
    "\n",
    "    rotation = {(-1, 0): 180, (0, 1): 90, (1, 0): 0, (0, -1): 270}\n",
    "    for y in range(size):\n",
    "            for x in range(size):\n",
    "                for a in agent.actions:\n",
    "                    if (x, y) == agent.environment.goal:\n",
    "                        direction = None\n",
    "                    else:\n",
    "                        for a in agent.actions:\n",
    "                            if agent.policy[((x, y), a)] == 1:\n",
    "                                direction = rotation[a]\n",
    "                    if direction != None:\n",
    "                        bbox_props = dict(boxstyle='rarrow')\n",
    "                        plt.text(x, y, '     ', bbox=bbox_props, size=8,\n",
    "                                     ha='center', va='center', rotation=direction)\n",
    "                        \n",
    "    plt.axis(\"off\")"
   ]
  },
  {
   "cell_type": "markdown",
   "metadata": {},
   "source": [
    "# 4 シミュレーション"
   ]
  },
  {
   "cell_type": "markdown",
   "metadata": {},
   "source": [
    "## 4.1 シミュレーション1"
   ]
  },
  {
   "cell_type": "code",
   "execution_count": 9,
   "metadata": {},
   "outputs": [
    {
     "data": {
      "image/png": "[encoded data removed]",
      "text/plain": [
       "<Figure size 216x216 with 1 Axes>"
      ]
     },
     "metadata": {
      "needs_background": "light"
     },
     "output_type": "display_data"
    }
   ],
   "source": [
    "env = Environment(lucky=[(1,2)])\n",
    "agent1 = Agent(env)\n",
    "show_maze(env)"
   ]
  },
  {
   "cell_type": "code",
   "execution_count": 10,
   "metadata": {},
   "outputs": [
    {
     "name": "stdout",
     "output_type": "stream",
     "text": [
      "epoch : 1 \n",
      "epoch : 2 \n",
      "epoch : 3 \n",
      "epoch : 4 \n"
     ]
    },
    {
     "data": {
      "image/png": "[encoded data removed]",
      "text/plain": [
       "<Figure size 216x216 with 1 Axes>"
      ]
     },
     "metadata": {
      "needs_background": "light"
     },
     "output_type": "display_data"
    },
    {
     "data": {
      "image/png": "[encoded data removed]",
      "text/plain": [
       "<Figure size 216x216 with 1 Axes>"
      ]
     },
     "metadata": {
      "needs_background": "light"
     },
     "output_type": "display_data"
    }
   ],
   "source": [
    "train(agent1)"
   ]
  },
  {
   "cell_type": "markdown",
   "metadata": {},
   "source": [
    "## 4.2 シミュレーション2"
   ]
  },
  {
   "cell_type": "code",
   "execution_count": 11,
   "metadata": {},
   "outputs": [
    {
     "data": {
      "image/png": "[encoded data removed]",
      "text/plain": [
       "<Figure size 216x216 with 1 Axes>"
      ]
     },
     "metadata": {
      "needs_background": "light"
     },
     "output_type": "display_data"
    }
   ],
   "source": [
    "env2 = Environment(size=4, lucky=[(1,2),(2,3)])\n",
    "agent2 = Agent(env2)\n",
    "show_maze(env2)"
   ]
  },
  {
   "cell_type": "code",
   "execution_count": 12,
   "metadata": {},
   "outputs": [
    {
     "name": "stdout",
     "output_type": "stream",
     "text": [
      "epoch : 1 \n",
      "epoch : 2 \n",
      "epoch : 3 \n",
      "epoch : 4 \n",
      "epoch : 5 \n"
     ]
    },
    {
     "data": {
      "image/png": "[encoded data removed]",
      "text/plain": [
       "<Figure size 216x216 with 1 Axes>"
      ]
     },
     "metadata": {
      "needs_background": "light"
     },
     "output_type": "display_data"
    },
    {
     "data": {
      "image/png": "[encoded data removed]",
      "text/plain": [
       "<Figure size 216x216 with 1 Axes>"
      ]
     },
     "metadata": {
      "needs_background": "light"
     },
     "output_type": "display_data"
    }
   ],
   "source": [
    "train(agent2)"
   ]
  },
  {
   "cell_type": "markdown",
   "metadata": {},
   "source": [
    "## 4.3 シミュレーション3"
   ]
  },
  {
   "cell_type": "code",
   "execution_count": 13,
   "metadata": {},
   "outputs": [
    {
     "data": {
      "image/png": "[encoded data removed]",
      "text/plain": [
       "<Figure size 216x216 with 1 Axes>"
      ]
     },
     "metadata": {
      "needs_background": "light"
     },
     "output_type": "display_data"
    }
   ],
   "source": [
    "env3 = Environment(size=4, lucky=[(1,2),(2,3)])\n",
    "agent3 = Agent(env3, policy=[1/4, 1/4, 1/4,1/4])\n",
    "show_maze(env3)"
   ]
  },
  {
   "cell_type": "code",
   "execution_count": 14,
   "metadata": {},
   "outputs": [
    {
     "name": "stdout",
     "output_type": "stream",
     "text": [
      "epoch : 1 \n",
      "epoch : 2 \n",
      "epoch : 3 \n",
      "epoch : 4 \n",
      "epoch : 5 \n"
     ]
    },
    {
     "data": {
      "image/png": "[encoded data removed]",
      "text/plain": [
       "<Figure size 216x216 with 1 Axes>"
      ]
     },
     "metadata": {
      "needs_background": "light"
     },
     "output_type": "display_data"
    },
    {
     "data": {
      "image/png": "[encoded data removed]",
      "text/plain": [
       "<Figure size 216x216 with 1 Axes>"
      ]
     },
     "metadata": {
      "needs_background": "light"
     },
     "output_type": "display_data"
    }
   ],
   "source": [
    "train(agent3)"
   ]
  },
  {
   "cell_type": "code",
   "execution_count": null,
   "metadata": {},
   "outputs": [],
   "source": []
  }
 ],
 "metadata": {
  "kernelspec": {
   "display_name": "Python 3",
   "language": "python",
   "name": "python3"
  },
  "language_info": {
   "codemirror_mode": {
    "name": "ipython",
    "version": 3
   },
   "file_extension": ".py",
   "mimetype": "text/x-python",
   "name": "python",
   "nbconvert_exporter": "python",
   "pygments_lexer": "ipython3",
   "version": "3.8.5"
  }
 },
 "nbformat": 4,
 "nbformat_minor": 4
}
