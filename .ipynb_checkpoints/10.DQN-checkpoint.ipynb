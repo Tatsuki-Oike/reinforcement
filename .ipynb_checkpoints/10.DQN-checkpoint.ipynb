{
 "cells": [
  {
   "cell_type": "markdown",
   "metadata": {},
   "source": [
    "# 1 環境とエージェント"
   ]
  },
  {
   "cell_type": "code",
   "execution_count": 1,
   "metadata": {},
   "outputs": [],
   "source": [
    "import numpy as np\n",
    "import matplotlib.pyplot as plt\n",
    "import seaborn as sns\n",
    "np.random.seed(1)"
   ]
  },
  {
   "cell_type": "code",
   "execution_count": 2,
   "metadata": {},
   "outputs": [
    {
     "data": {
      "text/plain": [
       "<torch._C.Generator at 0x7fcc33a76ad0>"
      ]
     },
     "execution_count": 2,
     "metadata": {},
     "output_type": "execute_result"
    }
   ],
   "source": [
    "from torch import nn\n",
    "from torch import optim\n",
    "import torch\n",
    "import numpy as np\n",
    "torch.manual_seed(1)"
   ]
  },
  {
   "cell_type": "code",
   "execution_count": 3,
   "metadata": {},
   "outputs": [],
   "source": [
    "class Environment:\n",
    "    \n",
    "    def __init__(self, size=3, lucky=[]):\n",
    "        \n",
    "        self.size = size\n",
    "        self.lucky = lucky\n",
    "        self.goal = (size-1, size-1)\n",
    "        self.states = [(x, y) for x in range(size) for y in range(size)]\n",
    "            \n",
    "    def next_state(self, s, a):\n",
    "        \n",
    "        s_next = (s[0] + a[0], s[1] + a[1])\n",
    "        \n",
    "        if s == self.goal:\n",
    "            return s\n",
    "        \n",
    "        if s_next not in self.states:\n",
    "            return s\n",
    "        \n",
    "        if s_next in self.lucky:\n",
    "            if np.random.random() < 0.8:\n",
    "                return self.goal\n",
    "            else:\n",
    "                return s_next\n",
    "        \n",
    "        return s_next\n",
    "    \n",
    "    def reward(self, s, s_next):\n",
    "        \n",
    "        if s == self.goal:\n",
    "            return -1\n",
    "        \n",
    "        if s_next == self.goal:\n",
    "            return 0\n",
    "        \n",
    "        return -1"
   ]
  },
  {
   "cell_type": "code",
   "execution_count": 4,
   "metadata": {},
   "outputs": [],
   "source": [
    "class Agent():\n",
    "    \n",
    "    def __init__(self, environment):\n",
    "        \n",
    "        self.actions = [(-1, 0), (0, -1), (1, 0), (0, 1)]\n",
    "        self.environment = environment\n",
    "                \n",
    "    def action(self, s, a, prob=False):\n",
    "\n",
    "        s_next = self.environment.next_state(s, a)\n",
    "        r = self.environment.reward(s, s_next)\n",
    "\n",
    "        return r, s_next"
   ]
  },
  {
   "cell_type": "markdown",
   "metadata": {},
   "source": [
    "# 2 Q-learning"
   ]
  },
  {
   "cell_type": "code",
   "execution_count": 5,
   "metadata": {},
   "outputs": [],
   "source": [
    "class NN:\n",
    "    def __init__(self, agent):\n",
    "        self.model = self.model()\n",
    "        self.criterion = nn.MSELoss()\n",
    "        self.actions = agent.actions\n",
    "        \n",
    "    def model(self):\n",
    "        model = nn.Sequential()\n",
    "        model.add_module('fc1', nn.Linear(4,  16))\n",
    "        model.add_module('relu1', nn.ReLU())\n",
    "        model.add_module('fc2', nn.Linear(16, 8))\n",
    "        model.add_module('relu1', nn.ReLU())\n",
    "        model.add_module('fc3', nn.Linear(8, 1))\n",
    "        self.optimizer = optim.Adam(model.parameters())\n",
    "        return model\n",
    "    \n",
    "    def train_model(self, sa, labels, num_train=1000):\n",
    "        for _ in range(num_train):\n",
    "            qvalue = self.model(torch.tensor(sa).float())\n",
    "            loss = self.criterion(qvalue, torch.tensor(labels).float())\n",
    "            self.optimizer.zero_grad()\n",
    "            loss.backward()\n",
    "            self.optimizer.step()\n",
    "    \n",
    "    def q_max(self, state):\n",
    "        sa = []\n",
    "        for action in self.actions:\n",
    "            sa.append(state+action)\n",
    "        q = self.model(torch.tensor([np.array(sa)]).float()).detach()\n",
    "        a_max = np.argmax(q)\n",
    "        return self.actions[a_max], q[0,a_max,0]"
   ]
  },
  {
   "cell_type": "code",
   "execution_count": 6,
   "metadata": {},
   "outputs": [],
   "source": [
    "def get_episode(agent, nn_model, epsilon=0.1):\n",
    "    \n",
    "    s = agent.environment.states[np.random.randint(agent.environment.size**2-1)]\n",
    "    \n",
    "    episode = []\n",
    "    while True:\n",
    "        \n",
    "        if np.random.random() < epsilon:\n",
    "            a = agent.actions[np.random.randint(2,4)]\n",
    "        else:\n",
    "            a, _ = nn_model.q_max(s)\n",
    "            \n",
    "        r, s_next = agent.action(s, a)\n",
    "        \n",
    "        episode.append((s, a, r, s_next))        \n",
    "        if s_next == agent.environment.goal:\n",
    "            break\n",
    "        s = s_next\n",
    "        \n",
    "    return episode"
   ]
  },
  {
   "cell_type": "code",
   "execution_count": 7,
   "metadata": {},
   "outputs": [],
   "source": [
    "def train(agent, nn_model, epsilon=0.1, num=100, num_train=1000):\n",
    "    for c in range(num):\n",
    "        print(f'num : {c+1} ')\n",
    "        \n",
    "        examples = []\n",
    "        for _ in range(100):\n",
    "            episode = get_episode(agent, nn_model, epsilon)\n",
    "            examples += episode\n",
    "        np.random.shuffle(examples)\n",
    "        \n",
    "        sa = []\n",
    "        labels = []\n",
    "        for s, a, r, s_next in examples:\n",
    "            sa.append(s+a)\n",
    "            _, q_next = nn_model.q_max(s_next)\n",
    "            labels.append([r + q_next.detach()])\n",
    "            \n",
    "        nn_model.train_model(sa, labels, num_train)\n",
    "    \n",
    "    show_values(agent, model1)\n",
    "    show_policy(agent, model1)"
   ]
  },
  {
   "cell_type": "markdown",
   "metadata": {},
   "source": [
    "# 3 可視化用関数"
   ]
  },
  {
   "cell_type": "code",
   "execution_count": 8,
   "metadata": {},
   "outputs": [],
   "source": [
    "def show_maze(environment):\n",
    "    size = environment.size\n",
    "    fig = plt.figure(figsize=(3,3))\n",
    "\n",
    "    plt.plot([-0.5, -0.5], [-0.5, size-0.5], color='k')\n",
    "    plt.plot([-0.5, size-0.5], [size-0.5, size-0.5], color='k')\n",
    "    plt.plot([size-0.5, -0.5], [-0.5, -0.5], color='k')\n",
    "    plt.plot([size-0.5, size-0.5], [size-0.5, -0.5], color='k')\n",
    "    \n",
    "    for i in range(size):\n",
    "        for j in range(size):\n",
    "            plt.text(i, j, \"{}\".format(i+size*j), size=20, ha=\"center\", va=\"center\")\n",
    "            if (i,j) in environment.lucky:\n",
    "                x = np.array([i-0.5,i-0.5,i+0.5,i+0.5])\n",
    "                y = np.array([j-0.5,j+0.5,j+0.5,j-0.5])\n",
    "                plt.fill(x,y, color=\"lightgreen\")\n",
    "\n",
    "    plt.axis(\"off\")"
   ]
  },
  {
   "cell_type": "code",
   "execution_count": 9,
   "metadata": {},
   "outputs": [],
   "source": [
    "def show_values(agent, nn_model):\n",
    "\n",
    "    fig = plt.figure(figsize=(3,3))\n",
    "    result = np.zeros([agent.environment.size, agent.environment.size])\n",
    "    for (x, y) in agent.environment.states:\n",
    "        a_max, q_max =  nn_model.q_max((x, y))\n",
    "        result[y][x]  = q_max\n",
    "        \n",
    "    sns.heatmap(result, square=True, cbar=False, annot=True, fmt='3.2f', cmap='autumn_r').invert_yaxis()\n",
    "    plt.axis(\"off\")"
   ]
  },
  {
   "cell_type": "code",
   "execution_count": 10,
   "metadata": {},
   "outputs": [],
   "source": [
    " def show_policy(agent, nn_model):\n",
    "    size = agent.environment.size\n",
    "    fig = plt.figure(figsize=(3,3))\n",
    "\n",
    "    plt.plot([-0.5, -0.5], [-0.5, size-0.5], color='k')\n",
    "    plt.plot([-0.5, size-0.5], [size-0.5, size-0.5], color='k')\n",
    "    plt.plot([size-0.5, -0.5], [-0.5, -0.5], color='k')\n",
    "    plt.plot([size-0.5, size-0.5], [size-0.5, -0.5], color='k')\n",
    "\n",
    "    for i in range(size):\n",
    "        for j in range(size):\n",
    "            if (i,j) in agent.environment.lucky:\n",
    "                x = np.array([i-0.5,i-0.5,i+0.5,i+0.5])\n",
    "                y = np.array([j-0.5,j+0.5,j+0.5,j-0.5])\n",
    "                plt.fill(x,y, color=\"lightgreen\")\n",
    "\n",
    "    rotation = {(-1, 0): 180, (0, 1): 90, (1, 0): 0, (0, -1): 270}\n",
    "    for s in agent.environment.states:\n",
    "        if s == agent.environment.goal:\n",
    "            direction=None\n",
    "        else:\n",
    "            a_max, q_max =  nn_model.q_max(s)\n",
    "            direction = rotation[a_max]\n",
    "        \n",
    "        if direction != None:\n",
    "            bbox_props = dict(boxstyle='rarrow')\n",
    "            plt.text(s[0], s[1], '     ', bbox=bbox_props, size=8,\n",
    "                     ha='center', va='center', rotation=direction)\n",
    "                        \n",
    "    plt.axis(\"off\")"
   ]
  },
  {
   "cell_type": "markdown",
   "metadata": {},
   "source": [
    "# 4 シミュレーション"
   ]
  },
  {
   "cell_type": "code",
   "execution_count": 11,
   "metadata": {},
   "outputs": [
    {
     "data": {
      "image/png": "[encoded data removed]",
      "text/plain": [
       "<Figure size 216x216 with 1 Axes>"
      ]
     },
     "metadata": {
      "needs_background": "light"
     },
     "output_type": "display_data"
    }
   ],
   "source": [
    "env1 = Environment(size=4, lucky=[(1,2),(2,3)])\n",
    "agent1 = Agent(env1)\n",
    "model1 = NN(agent1)\n",
    "show_maze(env1)"
   ]
  },
  {
   "cell_type": "code",
   "execution_count": 12,
   "metadata": {},
   "outputs": [
    {
     "name": "stdout",
     "output_type": "stream",
     "text": [
      "num : 1 \n",
      "num : 2 \n",
      "num : 3 \n",
      "num : 4 \n",
      "num : 5 \n"
     ]
    },
    {
     "data": {
      "image/png": "[encoded data removed]",
      "text/plain": [
       "<Figure size 216x216 with 1 Axes>"
      ]
     },
     "metadata": {
      "needs_background": "light"
     },
     "output_type": "display_data"
    },
    {
     "data": {
      "image/png": "[encoded data removed]",
      "text/plain": [
       "<Figure size 216x216 with 1 Axes>"
      ]
     },
     "metadata": {
      "needs_background": "light"
     },
     "output_type": "display_data"
    }
   ],
   "source": [
    "train(agent1, model1, epsilon=0.5, num=5)"
   ]
  },
  {
   "cell_type": "code",
   "execution_count": null,
   "metadata": {},
   "outputs": [],
   "source": []
  }
 ],
 "metadata": {
  "kernelspec": {
   "display_name": "Python 3",
   "language": "python",
   "name": "python3"
  },
  "language_info": {
   "codemirror_mode": {
    "name": "ipython",
    "version": 3
   },
   "file_extension": ".py",
   "mimetype": "text/x-python",
   "name": "python",
   "nbconvert_exporter": "python",
   "pygments_lexer": "ipython3",
   "version": "3.8.5"
  }
 },
 "nbformat": 4,
 "nbformat_minor": 4
}
