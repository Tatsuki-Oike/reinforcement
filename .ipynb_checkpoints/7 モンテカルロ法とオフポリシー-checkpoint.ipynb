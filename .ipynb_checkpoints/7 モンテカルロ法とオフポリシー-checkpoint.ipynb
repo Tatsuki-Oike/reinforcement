{
 "cells": [
  {
   "cell_type": "markdown",
   "metadata": {},
   "source": [
    "# 1 環境とエージェント"
   ]
  },
  {
   "cell_type": "code",
   "execution_count": 1,
   "metadata": {},
   "outputs": [],
   "source": [
    "import numpy as np\n",
    "import matplotlib.pyplot as plt\n",
    "import seaborn as sns\n",
    "np.random.seed(1)"
   ]
  },
  {
   "cell_type": "code",
   "execution_count": 2,
   "metadata": {},
   "outputs": [],
   "source": [
    "class Environment:\n",
    "    \n",
    "    def __init__(self, size=3, lucky=[]):\n",
    "        \n",
    "        self.size = size\n",
    "        self.lucky = lucky\n",
    "        self.goal = (size-1, size-1)\n",
    "        self.states = [(x, y) for x in range(size) for y in range(size)]\n",
    "        \n",
    "        self.value = {}\n",
    "        for s in self.states:\n",
    "            self.value[s] = 0\n",
    "            \n",
    "    def next_state(self, s, a):\n",
    "        \n",
    "        s_next = (s[0] + a[0], s[1] + a[1])\n",
    "        \n",
    "        if s == self.goal:\n",
    "            return s\n",
    "        \n",
    "        if s_next not in self.states:\n",
    "            return s\n",
    "        \n",
    "        if s_next in self.lucky:\n",
    "            if np.random.random() < 0.8:\n",
    "                return self.goal\n",
    "            else:\n",
    "                return s_next\n",
    "        \n",
    "        return s_next\n",
    "    \n",
    "    def reward(self, s, s_next):\n",
    "        \n",
    "        if s == self.goal:\n",
    "            return -1\n",
    "        \n",
    "        if s_next == self.goal:\n",
    "            return 0\n",
    "        \n",
    "        return -1"
   ]
  },
  {
   "cell_type": "code",
   "execution_count": 3,
   "metadata": {},
   "outputs": [],
   "source": [
    "class Agent():\n",
    "    \n",
    "    def __init__(self, environment):\n",
    "        \n",
    "        self.actions = [(-1, 0), (0, -1), (1, 0), (0, 1)]\n",
    "        self.environment = environment\n",
    "        \n",
    "        self.policy = {}\n",
    "        for s in self.environment.states:\n",
    "            self.policy[s] = self.actions[np.random.randint(2,4)]\n",
    "            \n",
    "        self.q = {}\n",
    "        for s in self.environment.states:\n",
    "            for a in self.actions:\n",
    "                self.q[(s, a)] = -100\n",
    "                \n",
    "    def action(self, s, a):\n",
    "\n",
    "        s_next = self.environment.next_state(s, a)\n",
    "        r = self.environment.reward(s, s_next)\n",
    "\n",
    "        return r, s_next"
   ]
  },
  {
   "cell_type": "markdown",
   "metadata": {},
   "source": [
    "# 2 モンテカルロ法"
   ]
  },
  {
   "cell_type": "code",
   "execution_count": 4,
   "metadata": {},
   "outputs": [],
   "source": [
    "def get_episode(agent, epsilon=0.1):\n",
    "    \n",
    "    s = agent.environment.states[np.random.randint(agent.environment.size**2-1)]\n",
    "    \n",
    "    episode = []\n",
    "    n = 0\n",
    "    while True:\n",
    "        \n",
    "        if np.random.random() < epsilon:\n",
    "            a = agent.actions[np.random.randint(2,4)]\n",
    "        else:\n",
    "            a = agent.policy[s]\n",
    "            \n",
    "        r, s_next = agent.action(s, a)\n",
    "        \n",
    "        episode.append((s, a, r))        \n",
    "        \n",
    "        if s_next == agent.environment.goal:\n",
    "            break\n",
    "        s = s_next\n",
    "            \n",
    "        n += 1\n",
    "    return episode"
   ]
  },
  {
   "cell_type": "code",
   "execution_count": 5,
   "metadata": {},
   "outputs": [],
   "source": [
    "def policy(agent, s):\n",
    "    \n",
    "    q_max = -100\n",
    "    a_max = None\n",
    "    for a in agent.actions:\n",
    "\n",
    "        if agent.q[(s, a)]>q_max:\n",
    "            q_max = agent.q[(s, a)]\n",
    "            a_max = a\n",
    "            \n",
    "    agent.policy[s] = a_max\n",
    "\n",
    "    return q_max"
   ]
  },
  {
   "cell_type": "code",
   "execution_count": 6,
   "metadata": {},
   "outputs": [],
   "source": [
    "def train(agent, epsilon=0.1, alpha=0.2, num=100):\n",
    "    \n",
    "    for _ in range(num):\n",
    "        \n",
    "        episode = get_episode(agent, epsilon)\n",
    "        episode.reverse()\n",
    "        r_sum = 0\n",
    "        last = False\n",
    "        \n",
    "        for (s, a, r) in episode:\n",
    "            \n",
    "            if a != agent.policy[s]:\n",
    "                last=True\n",
    "                \n",
    "            r_sum += r\n",
    "            agent.q[(s, a)] += alpha*(r_sum - agent.q[(s, a)])\n",
    "            agent.environment.value[s] = policy(agent, s)\n",
    "            \n",
    "            if last:\n",
    "                break      \n",
    "\n",
    "    show_values(agent)\n",
    "    show_policy(agent)    "
   ]
  },
  {
   "cell_type": "markdown",
   "metadata": {},
   "source": [
    "# 3 可視化用関数"
   ]
  },
  {
   "cell_type": "code",
   "execution_count": 7,
   "metadata": {},
   "outputs": [],
   "source": [
    "def show_maze(environment):\n",
    "    size = environment.size\n",
    "    fig = plt.figure(figsize=(3,3))\n",
    "\n",
    "    plt.plot([-0.5, -0.5], [-0.5, size-0.5], color='k')\n",
    "    plt.plot([-0.5, size-0.5], [size-0.5, size-0.5], color='k')\n",
    "    plt.plot([size-0.5, -0.5], [-0.5, -0.5], color='k')\n",
    "    plt.plot([size-0.5, size-0.5], [size-0.5, -0.5], color='k')\n",
    "    \n",
    "    for i in range(size):\n",
    "        for j in range(size):\n",
    "            plt.text(i, j, \"{}\".format(i+size*j), size=20, ha=\"center\", va=\"center\")\n",
    "            if (i,j) in environment.lucky:\n",
    "                x = np.array([i-0.5,i-0.5,i+0.5,i+0.5])\n",
    "                y = np.array([j-0.5,j+0.5,j+0.5,j-0.5])\n",
    "                plt.fill(x,y, color=\"lightgreen\")\n",
    "\n",
    "    plt.axis(\"off\")"
   ]
  },
  {
   "cell_type": "code",
   "execution_count": 8,
   "metadata": {},
   "outputs": [],
   "source": [
    "def show_values(agent):\n",
    "\n",
    "    fig = plt.figure(figsize=(3,3))\n",
    "    result = np.zeros([agent.environment.size, agent.environment.size])\n",
    "    for (x, y) in agent.environment.states:\n",
    "        result[y][x]  = agent.environment.value[(x, y)]\n",
    "        \n",
    "    sns.heatmap(result, square=True, cbar=False, annot=True, fmt='3.2f', cmap='autumn_r').invert_yaxis()\n",
    "    plt.axis(\"off\")"
   ]
  },
  {
   "cell_type": "code",
   "execution_count": 9,
   "metadata": {},
   "outputs": [],
   "source": [
    " def show_policy(agent):\n",
    "    size = agent.environment.size\n",
    "    fig = plt.figure(figsize=(3,3))\n",
    "\n",
    "    plt.plot([-0.5, -0.5], [-0.5, size-0.5], color='k')\n",
    "    plt.plot([-0.5, size-0.5], [size-0.5, size-0.5], color='k')\n",
    "    plt.plot([size-0.5, -0.5], [-0.5, -0.5], color='k')\n",
    "    plt.plot([size-0.5, size-0.5], [size-0.5, -0.5], color='k')\n",
    "\n",
    "    for i in range(size):\n",
    "        for j in range(size):\n",
    "            if (i,j) in agent.environment.lucky:\n",
    "                x = np.array([i-0.5,i-0.5,i+0.5,i+0.5])\n",
    "                y = np.array([j-0.5,j+0.5,j+0.5,j-0.5])\n",
    "                plt.fill(x,y, color=\"lightgreen\")\n",
    "\n",
    "    rotation = {(-1, 0): 180, (0, 1): 90, (1, 0): 0, (0, -1): 270}\n",
    "    for s in agent.environment.states:\n",
    "        if s == agent.environment.goal:\n",
    "            direction=None\n",
    "        else:\n",
    "            direction = rotation[agent.policy[s]]\n",
    "        \n",
    "        if direction != None:\n",
    "            bbox_props = dict(boxstyle='rarrow')\n",
    "            plt.text(s[0], s[1], '     ', bbox=bbox_props, size=8,\n",
    "                     ha='center', va='center', rotation=direction)\n",
    "                        \n",
    "    plt.axis(\"off\")"
   ]
  },
  {
   "cell_type": "markdown",
   "metadata": {},
   "source": [
    "# 4 シミュレーション"
   ]
  },
  {
   "cell_type": "code",
   "execution_count": 10,
   "metadata": {},
   "outputs": [
    {
     "data": {
      "image/png": "[encoded data removed]",
      "text/plain": [
       "<Figure size 216x216 with 1 Axes>"
      ]
     },
     "metadata": {
      "needs_background": "light"
     },
     "output_type": "display_data"
    }
   ],
   "source": [
    "env1 = Environment(size=4, lucky=[(1,2),(2,3)])\n",
    "agent1 = Agent(env1)\n",
    "show_maze(env1)"
   ]
  },
  {
   "cell_type": "code",
   "execution_count": 11,
   "metadata": {},
   "outputs": [
    {
     "data": {
      "image/png": "[encoded data removed]",
      "text/plain": [
       "<Figure size 216x216 with 1 Axes>"
      ]
     },
     "metadata": {
      "needs_background": "light"
     },
     "output_type": "display_data"
    },
    {
     "data": {
      "image/png": "[encoded data removed]",
      "text/plain": [
       "<Figure size 216x216 with 1 Axes>"
      ]
     },
     "metadata": {
      "needs_background": "light"
     },
     "output_type": "display_data"
    }
   ],
   "source": [
    "train(agent1, num=10000)"
   ]
  },
  {
   "cell_type": "code",
   "execution_count": null,
   "metadata": {},
   "outputs": [],
   "source": []
  }
 ],
 "metadata": {
  "kernelspec": {
   "display_name": "Python 3",
   "language": "python",
   "name": "python3"
  },
  "language_info": {
   "codemirror_mode": {
    "name": "ipython",
    "version": 3
   },
   "file_extension": ".py",
   "mimetype": "text/x-python",
   "name": "python",
   "nbconvert_exporter": "python",
   "pygments_lexer": "ipython3",
   "version": "3.8.5"
  }
 },
 "nbformat": 4,
 "nbformat_minor": 4
}
