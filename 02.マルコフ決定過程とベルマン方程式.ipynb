{
 "cells": [
  {
   "cell_type": "markdown",
   "metadata": {},
   "source": [
    "# 1 環境とエージェント"
   ]
  },
  {
   "cell_type": "code",
   "execution_count": 1,
   "metadata": {},
   "outputs": [],
   "source": [
    "import numpy as np\n",
    "import matplotlib.pyplot as plt\n",
    "np.random.seed(1)"
   ]
  },
  {
   "cell_type": "code",
   "execution_count": 2,
   "metadata": {},
   "outputs": [],
   "source": [
    "class Environment:\n",
    "    \n",
    "    def __init__(self, size=3, lucky=[]):\n",
    "        \n",
    "        self.size = size\n",
    "        self.lucky = lucky\n",
    "        self.goal = (size-1, size-1)\n",
    "        self.states = [(x, y) for x in range(size) for y in range(size)]\n",
    "        \n",
    "    def next_state(self, s, a):\n",
    "        \n",
    "        s_next = (s[0] + a[0], s[1] + a[1])\n",
    "        \n",
    "        if s == self.goal:\n",
    "            return s\n",
    "        \n",
    "        if s_next not in self.states:\n",
    "            return s\n",
    "        \n",
    "        if s_next in self.lucky:\n",
    "            if np.random.random() < 0.8:\n",
    "                return self.goal\n",
    "            else:\n",
    "                return s_next\n",
    "        \n",
    "        return s_next\n",
    "    \n",
    "    def reward(self, s, s_next):\n",
    "        \n",
    "        if s == self.goal:\n",
    "            return 0\n",
    "        \n",
    "        if s_next == self.goal:\n",
    "            return 1\n",
    "        \n",
    "        return 0            "
   ]
  },
  {
   "cell_type": "code",
   "execution_count": 3,
   "metadata": {},
   "outputs": [],
   "source": [
    "class Agent():\n",
    "    \n",
    "    def __init__(self, environment, policy=[0, 0, 1/2, 1/2]):\n",
    "        \n",
    "        self.actions = [(-1, 0), (0, -1), (1, 0), (0, 1)]\n",
    "        self.environment = environment\n",
    "        \n",
    "    def action(self, s, a):\n",
    "        \n",
    "        s_next = self.environment.next_state(s, a)\n",
    "        r = self.environment.reward(s, s_next)\n",
    "\n",
    "        return r, s_next"
   ]
  },
  {
   "cell_type": "markdown",
   "metadata": {},
   "source": [
    "# 2 エピソードの取得"
   ]
  },
  {
   "cell_type": "code",
   "execution_count": 4,
   "metadata": {},
   "outputs": [],
   "source": [
    "def get_episode(agent, gamma=0.9):\n",
    "    print(\"s, a, s_next, r\")\n",
    "    s = (0,0)\n",
    "    \n",
    "    episode = []\n",
    "    r_sum = 0\n",
    "    num = 0\n",
    "    while True:\n",
    "        a = agent.actions[np.random.randint(0,4)]\n",
    "        r, s_next = agent.action(s, a)\n",
    "        episode.append((s, a, s_next, r))\n",
    "        \n",
    "        r_sum += (gamma**num)*r\n",
    "        s = s_next\n",
    "        num += 1\n",
    "        \n",
    "        if s == agent.environment.goal:\n",
    "            break\n",
    "            \n",
    "    return episode, r_sum"
   ]
  },
  {
   "cell_type": "markdown",
   "metadata": {},
   "source": [
    "# 3 可視化用関数"
   ]
  },
  {
   "cell_type": "code",
   "execution_count": 5,
   "metadata": {},
   "outputs": [],
   "source": [
    "def show_maze(environment):\n",
    "    size = environment.size\n",
    "    fig = plt.figure(figsize=(3,3))\n",
    "\n",
    "    plt.plot([-0.5, -0.5], [-0.5, size-0.5], color='k')\n",
    "    plt.plot([-0.5, size-0.5], [size-0.5, size-0.5], color='k')\n",
    "    plt.plot([size-0.5, -0.5], [-0.5, -0.5], color='k')\n",
    "    plt.plot([size-0.5, size-0.5], [size-0.5, -0.5], color='k')\n",
    "\n",
    "    for i in range(size):\n",
    "        for j in range(size):\n",
    "            plt.text(i, j, \"{}\".format(i+size*j), size=20, ha=\"center\", va=\"center\")\n",
    "            if (i,j) in environment.lucky:\n",
    "                x = np.array([i-0.5,i-0.5,i+0.5,i+0.5])\n",
    "                y = np.array([j-0.5,j+0.5,j+0.5,j-0.5])\n",
    "                plt.fill(x,y, color=\"lightgreen\")\n",
    "\n",
    "    plt.axis(\"off\")"
   ]
  },
  {
   "cell_type": "markdown",
   "metadata": {},
   "source": [
    "# 4 シミュレーション"
   ]
  },
  {
   "cell_type": "markdown",
   "metadata": {},
   "source": [
    "## 4.1 シミュレーション1"
   ]
  },
  {
   "cell_type": "code",
   "execution_count": 6,
   "metadata": {},
   "outputs": [
    {
     "data": {
      "image/png": "[encoded data removed]",
      "text/plain": [
       "<Figure size 216x216 with 1 Axes>"
      ]
     },
     "metadata": {
      "needs_background": "light"
     },
     "output_type": "display_data"
    }
   ],
   "source": [
    "env1 = Environment(lucky=[(1,2)])\n",
    "agent1 = Agent(env1)\n",
    "show_maze(env1)"
   ]
  },
  {
   "cell_type": "code",
   "execution_count": 7,
   "metadata": {},
   "outputs": [
    {
     "name": "stdout",
     "output_type": "stream",
     "text": [
      "s, a, s_next, r\n"
     ]
    },
    {
     "data": {
      "text/plain": [
       "([((0, 0), (0, -1), (0, 0), 0),\n",
       "  ((0, 0), (0, 1), (0, 1), 0),\n",
       "  ((0, 1), (-1, 0), (0, 1), 0),\n",
       "  ((0, 1), (-1, 0), (0, 1), 0),\n",
       "  ((0, 1), (0, 1), (0, 2), 0),\n",
       "  ((0, 2), (0, -1), (0, 1), 0),\n",
       "  ((0, 1), (0, 1), (0, 2), 0),\n",
       "  ((0, 2), (0, -1), (0, 1), 0),\n",
       "  ((0, 1), (0, 1), (0, 2), 0),\n",
       "  ((0, 2), (-1, 0), (0, 2), 0),\n",
       "  ((0, 2), (-1, 0), (0, 2), 0),\n",
       "  ((0, 2), (0, -1), (0, 1), 0),\n",
       "  ((0, 1), (-1, 0), (0, 1), 0),\n",
       "  ((0, 1), (0, 1), (0, 2), 0),\n",
       "  ((0, 2), (0, -1), (0, 1), 0),\n",
       "  ((0, 1), (-1, 0), (0, 1), 0),\n",
       "  ((0, 1), (1, 0), (1, 1), 0),\n",
       "  ((1, 1), (0, -1), (1, 0), 0),\n",
       "  ((1, 0), (1, 0), (2, 0), 0),\n",
       "  ((2, 0), (-1, 0), (1, 0), 0),\n",
       "  ((1, 0), (1, 0), (2, 0), 0),\n",
       "  ((2, 0), (0, -1), (2, 0), 0),\n",
       "  ((2, 0), (1, 0), (2, 0), 0),\n",
       "  ((2, 0), (-1, 0), (1, 0), 0),\n",
       "  ((1, 0), (0, 1), (1, 1), 0),\n",
       "  ((1, 1), (-1, 0), (0, 1), 0),\n",
       "  ((0, 1), (1, 0), (1, 1), 0),\n",
       "  ((1, 1), (-1, 0), (0, 1), 0),\n",
       "  ((0, 1), (0, -1), (0, 0), 0),\n",
       "  ((0, 0), (1, 0), (1, 0), 0),\n",
       "  ((1, 0), (1, 0), (2, 0), 0),\n",
       "  ((2, 0), (-1, 0), (1, 0), 0),\n",
       "  ((1, 0), (0, 1), (1, 1), 0),\n",
       "  ((1, 1), (0, 1), (2, 2), 1)],\n",
       " 0.030903154382632636)"
      ]
     },
     "execution_count": 7,
     "metadata": {},
     "output_type": "execute_result"
    }
   ],
   "source": [
    "get_episode(agent1)"
   ]
  },
  {
   "cell_type": "markdown",
   "metadata": {},
   "source": [
    "## 4.2 シミュレーション2"
   ]
  },
  {
   "cell_type": "code",
   "execution_count": 8,
   "metadata": {},
   "outputs": [
    {
     "data": {
      "image/png": "[encoded data removed]",
      "text/plain": [
       "<Figure size 216x216 with 1 Axes>"
      ]
     },
     "metadata": {
      "needs_background": "light"
     },
     "output_type": "display_data"
    }
   ],
   "source": [
    "env2 = Environment(size=4, lucky=[(1,2), (2,3)])\n",
    "agent2 = Agent(env2)\n",
    "show_maze(env2)"
   ]
  },
  {
   "cell_type": "code",
   "execution_count": 9,
   "metadata": {},
   "outputs": [
    {
     "name": "stdout",
     "output_type": "stream",
     "text": [
      "s, a, s_next, r\n"
     ]
    },
    {
     "data": {
      "text/plain": [
       "([((0, 0), (0, 1), (0, 1), 0),\n",
       "  ((0, 1), (1, 0), (1, 1), 0),\n",
       "  ((1, 1), (-1, 0), (0, 1), 0),\n",
       "  ((0, 1), (1, 0), (1, 1), 0),\n",
       "  ((1, 1), (0, -1), (1, 0), 0),\n",
       "  ((1, 0), (0, -1), (1, 0), 0),\n",
       "  ((1, 0), (0, -1), (1, 0), 0),\n",
       "  ((1, 0), (0, 1), (1, 1), 0),\n",
       "  ((1, 1), (0, 1), (3, 3), 1)],\n",
       " 0.4304672100000001)"
      ]
     },
     "execution_count": 9,
     "metadata": {},
     "output_type": "execute_result"
    }
   ],
   "source": [
    "get_episode(agent2)"
   ]
  },
  {
   "cell_type": "code",
   "execution_count": null,
   "metadata": {},
   "outputs": [],
   "source": []
  }
 ],
 "metadata": {
  "kernelspec": {
   "display_name": "Python 3",
   "language": "python",
   "name": "python3"
  },
  "language_info": {
   "codemirror_mode": {
    "name": "ipython",
    "version": 3
   },
   "file_extension": ".py",
   "mimetype": "text/x-python",
   "name": "python",
   "nbconvert_exporter": "python",
   "pygments_lexer": "ipython3",
   "version": "3.8.5"
  }
 },
 "nbformat": 4,
 "nbformat_minor": 4
}
